{
 "cells": [
  {
   "cell_type": "markdown",
   "metadata": {},
   "source": [
    "## Colored to Grayscale Conversion using Gradio\n"
   ]
  },
  {
   "cell_type": "markdown",
   "metadata": {},
   "source": [
    "## Imports"
   ]
  },
  {
   "cell_type": "code",
   "execution_count": null,
   "metadata": {},
   "outputs": [],
   "source": [
    "import cv2\n",
    "import numpy as np\n",
    "import gradio as gr\n",
    "from PIL import Image"
   ]
  },
  {
   "cell_type": "markdown",
   "metadata": {},
   "source": [
    "## Image Processing Functions"
   ]
  },
  {
   "cell_type": "code",
   "execution_count": null,
   "metadata": {},
   "outputs": [],
   "source": [
    "\n",
    "def read_image(impath: str) -> np.ndarray:\n",
    "    raw_image = cv2.imread(impath)\n",
    "    return raw_image\n",
    "\n",
    "def convert_to_grayscale(color_img: np.ndarray) -> np.ndarray:\n",
    "    gray_img = cv2.cvtColor(color_img, cv2.COLOR_RGB2GRAY)\n",
    "    return gray_img\n",
    "\n",
    "def convert_image_to_grayscale(input_image):\n",
    "    # Convert Gradio Image to numpy array\n",
    "    input_np = np.array(input_image)\n",
    "\n",
    "    # Perform grayscale conversion using your function\n",
    "    grayscale_img = convert_to_grayscale(input_np)\n",
    "\n",
    "    # Convert the result back to Gradio-compatible format (PIL Image)\n",
    "    result_pil = Image.fromarray(grayscale_img)\n",
    "\n",
    "    return result_pil\n",
    "\n",
    "\n"
   ]
  },
  {
   "cell_type": "markdown",
   "metadata": {},
   "source": [
    "## Creates a simple Gradio website"
   ]
  },
  {
   "cell_type": "code",
   "execution_count": null,
   "metadata": {},
   "outputs": [],
   "source": [
    "# Create Gradio Interface\n",
    "iface = gr.Interface(\n",
    "    fn=convert_image_to_grayscale,\n",
    "    inputs=gr.Image(),\n",
    "    outputs=gr.Image(),\n",
    "    live=True,\n",
    "    title=\"Colored to Grayscale Conversion\",\n",
    "    description=\"Click image icon, select colored image, AI converts to grayscale, download result.\",\n",
    "    theme=\"gradio/monochrome\"\n",
    ")\n",
    "\n",
    "# Deploy the Gradio interface as a web app\n",
    "iface.launch(share=True)"
   ]
  }
 ],
 "metadata": {
  "kernelspec": {
   "display_name": "Python 3",
   "language": "python",
   "name": "python3"
  },
  "language_info": {
   "codemirror_mode": {
    "name": "ipython",
    "version": 3
   },
   "file_extension": ".py",
   "mimetype": "text/x-python",
   "name": "python",
   "nbconvert_exporter": "python",
   "pygments_lexer": "ipython3",
   "version": "3.11.7"
  }
 },
 "nbformat": 4,
 "nbformat_minor": 2
}
